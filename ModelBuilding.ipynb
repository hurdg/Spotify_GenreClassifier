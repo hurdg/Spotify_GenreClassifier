{
 "cells": [
  {
   "cell_type": "markdown",
   "metadata": {},
   "source": [
    "### Define Data"
   ]
  },
  {
   "cell_type": "code",
   "execution_count": 86,
   "metadata": {},
   "outputs": [],
   "source": [
    "import pandas as pd\n",
    "from sklearn.model_selection import train_test_split\n",
    "\n",
    "df = pd.read_csv(\"data_train.csv\", index_col=0)"
   ]
  },
  {
   "cell_type": "code",
   "execution_count": 88,
   "metadata": {},
   "outputs": [
    {
     "data": {
      "text/html": [
       "<div>\n",
       "<style scoped>\n",
       "    .dataframe tbody tr th:only-of-type {\n",
       "        vertical-align: middle;\n",
       "    }\n",
       "\n",
       "    .dataframe tbody tr th {\n",
       "        vertical-align: top;\n",
       "    }\n",
       "\n",
       "    .dataframe thead th {\n",
       "        text-align: right;\n",
       "    }\n",
       "</style>\n",
       "<table border=\"1\" class=\"dataframe\">\n",
       "  <thead>\n",
       "    <tr style=\"text-align: right;\">\n",
       "      <th></th>\n",
       "      <th>1</th>\n",
       "      <th>2</th>\n",
       "      <th>4</th>\n",
       "      <th>0</th>\n",
       "      <th>7</th>\n",
       "      <th>3</th>\n",
       "      <th>5</th>\n",
       "      <th>6</th>\n",
       "    </tr>\n",
       "  </thead>\n",
       "  <tbody>\n",
       "    <tr>\n",
       "      <th>1</th>\n",
       "      <td>tango</td>\n",
       "      <td>kids</td>\n",
       "      <td>comedy</td>\n",
       "      <td>pagode</td>\n",
       "      <td>k-pop</td>\n",
       "      <td>metalcore</td>\n",
       "      <td>new-age</td>\n",
       "      <td>minimal-techno</td>\n",
       "    </tr>\n",
       "    <tr>\n",
       "      <th>2</th>\n",
       "      <td>romance</td>\n",
       "      <td>latin</td>\n",
       "      <td>show-tunes</td>\n",
       "      <td>samba</td>\n",
       "      <td>pop-film</td>\n",
       "      <td>heavy-metal</td>\n",
       "      <td>classical</td>\n",
       "      <td>detroit-techno</td>\n",
       "    </tr>\n",
       "    <tr>\n",
       "      <th>3</th>\n",
       "      <td>honky-tonk</td>\n",
       "      <td>party</td>\n",
       "      <td>funk</td>\n",
       "      <td>sertanejo</td>\n",
       "      <td>forro</td>\n",
       "      <td>death-metal</td>\n",
       "      <td>sleep</td>\n",
       "      <td>techno</td>\n",
       "    </tr>\n",
       "    <tr>\n",
       "      <th>4</th>\n",
       "      <td>cantopop</td>\n",
       "      <td>salsa</td>\n",
       "      <td>kids</td>\n",
       "      <td>mpb</td>\n",
       "      <td>deep-house</td>\n",
       "      <td>hardstyle</td>\n",
       "      <td>ambient</td>\n",
       "      <td>chicago-house</td>\n",
       "    </tr>\n",
       "    <tr>\n",
       "      <th>5</th>\n",
       "      <td>jazz</td>\n",
       "      <td>reggae</td>\n",
       "      <td>children</td>\n",
       "      <td>gospel</td>\n",
       "      <td>turkish</td>\n",
       "      <td>grunge</td>\n",
       "      <td>piano</td>\n",
       "      <td>trance</td>\n",
       "    </tr>\n",
       "    <tr>\n",
       "      <th>Percent of Data</th>\n",
       "      <td>18%</td>\n",
       "      <td>19%</td>\n",
       "      <td>1%</td>\n",
       "      <td>6%</td>\n",
       "      <td>21%</td>\n",
       "      <td>18%</td>\n",
       "      <td>6%</td>\n",
       "      <td>10%</td>\n",
       "    </tr>\n",
       "  </tbody>\n",
       "</table>\n",
       "</div>"
      ],
      "text/plain": [
       "                          1       2           4          0           7  \\\n",
       "1                     tango    kids      comedy     pagode       k-pop   \n",
       "2                   romance   latin  show-tunes      samba    pop-film   \n",
       "3                honky-tonk   party        funk  sertanejo       forro   \n",
       "4                  cantopop   salsa        kids        mpb  deep-house   \n",
       "5                      jazz  reggae    children     gospel     turkish   \n",
       "Percent of Data         18%     19%          1%         6%         21%   \n",
       "\n",
       "                           3          5               6  \n",
       "1                  metalcore    new-age  minimal-techno  \n",
       "2                heavy-metal  classical  detroit-techno  \n",
       "3                death-metal      sleep          techno  \n",
       "4                  hardstyle    ambient   chicago-house  \n",
       "5                     grunge      piano          trance  \n",
       "Percent of Data          18%         6%             10%  "
      ]
     },
     "execution_count": 88,
     "metadata": {},
     "output_type": "execute_result"
    }
   ],
   "source": [
    "#Overview of the top 'n' genres within each cluster, and the number of songs within each cluster (training set)\n",
    "n = 5\n",
    "\n",
    "song_count = len(df)\n",
    "genre_dict = {cluster: list(df['track_genre'][df['cluster'] == cluster].value_counts().index[:n]) for cluster in df['cluster'].unique()}\n",
    "cluster_df = pd.DataFrame({\"cluster\":df['cluster'], \"genre\": df['track_genre']})\n",
    "count_dict_unformatted = cluster_df['cluster'].value_counts().to_dict()\n",
    "count_dict = pd.DataFrame({k: [f\"{v/song_count*100:.0f}%\"] for k,v in count_dict_unformatted.items()})\n",
    "\n",
    "summary_df = pd.concat([pd.DataFrame(genre_dict), pd.DataFrame(count_dict)], ignore_index = True)\n",
    "summary_df.rename({i: i+1 for i in range(len(summary_df))}).rename({len(summary_df): \"Percent of Data\"})"
   ]
  },
  {
   "cell_type": "code",
   "execution_count": 92,
   "metadata": {},
   "outputs": [],
   "source": [
    "#Example for binary cluster classification\n",
    "selected_cluster = 3\n",
    "\n",
    "\n",
    "#Coerce boolean to binary\n",
    "df[f'cluster{selected_cluster}_binary'] = (df['cluster'] == selected_cluster) *1\n",
    "\n",
    "#Drop columns (should we ddrop track_genre??) and create training/testing \n",
    "#NOTE a testing csv has already been witheld\n",
    "X = df.drop(labels = ['track_genre', 'cluster'], axis=1)\n",
    "y = X.pop(f'cluster{selected_cluster}_binary')\n",
    "\n",
    "X_train, X_test, y_train, y_test = train_test_split(X,y,random_state=42,test_size = 0.2)"
   ]
  },
  {
   "cell_type": "markdown",
   "metadata": {},
   "source": [
    "### Assess Models"
   ]
  },
  {
   "cell_type": "code",
   "execution_count": 93,
   "metadata": {},
   "outputs": [
    {
     "data": {
      "text/plain": [
       "0.8212171052631579"
      ]
     },
     "execution_count": 93,
     "metadata": {},
     "output_type": "execute_result"
    }
   ],
   "source": [
    "#Negative Model\n",
    "y_test.value_counts()[0]/len(y_test)"
   ]
  },
  {
   "cell_type": "code",
   "execution_count": 94,
   "metadata": {},
   "outputs": [
    {
     "data": {
      "text/plain": [
       "0.8212171052631579"
      ]
     },
     "execution_count": 94,
     "metadata": {},
     "output_type": "execute_result"
    }
   ],
   "source": [
    "#Logistic model\n",
    "from sklearn.linear_model import LogisticRegression\n",
    "\n",
    "log_clf = LogisticRegression(random_state=42)\n",
    "log_clf.fit(X_train, y_train)\n",
    "yhat = log_clf.predict(X_test)\n",
    "(yhat == y_test).mean()"
   ]
  },
  {
   "cell_type": "code",
   "execution_count": 95,
   "metadata": {},
   "outputs": [
    {
     "data": {
      "text/plain": [
       "0.950109649122807"
      ]
     },
     "execution_count": 95,
     "metadata": {},
     "output_type": "execute_result"
    }
   ],
   "source": [
    "#Adaboost model\n",
    "from sklearn.ensemble import AdaBoostClassifier\n",
    "\n",
    "abc_clf = AdaBoostClassifier(n_estimators=100, algorithm=\"SAMME\", random_state=42)\n",
    "abc_clf.fit(X_train, y_train)\n",
    "yhat = abc_clf.predict(X_test)\n",
    "(y_test == yhat).mean()"
   ]
  },
  {
   "cell_type": "code",
   "execution_count": 51,
   "metadata": {},
   "outputs": [],
   "source": [
    "#SVC model\n",
    "from sklearn import svm\n",
    "\n",
    "svc_clf = svm.SVC()\n",
    "svc_clf.fit(X_train, y_train)\n",
    "yhat = svc_clf.predict(X_test)\n",
    "(y_test == yhat).mean()"
   ]
  }
 ],
 "metadata": {
  "kernelspec": {
   "display_name": "605env",
   "language": "python",
   "name": "python3"
  },
  "language_info": {
   "codemirror_mode": {
    "name": "ipython",
    "version": 3
   },
   "file_extension": ".py",
   "mimetype": "text/x-python",
   "name": "python",
   "nbconvert_exporter": "python",
   "pygments_lexer": "ipython3",
   "version": "3.10.13"
  }
 },
 "nbformat": 4,
 "nbformat_minor": 2
}
