{
 "cells": [
  {
   "cell_type": "markdown",
   "metadata": {},
   "source": [
    "### Define Data"
   ]
  },
  {
   "cell_type": "code",
   "execution_count": 18,
   "metadata": {},
   "outputs": [],
   "source": [
    "import pandas as pd\n",
    "from sklearn.model_selection import train_test_split\n",
    "\n",
    "df = pd.read_csv(\"clustered_df.csv\")"
   ]
  },
  {
   "cell_type": "code",
   "execution_count": 28,
   "metadata": {},
   "outputs": [],
   "source": [
    "selected_cluster = 3\n",
    "\n",
    "df[f'class{selected_cluster}_binary'] = (df['class'] == selected_cluster) *1\n",
    "X = df.drop(labels = ['Unnamed: 0.1', 'Unnamed: 0', 'track_id', 'artists', 'album_name',\n",
    "       'track_name','track_genre', 'class'], axis=1)\n",
    "y = X.pop(f'class{selected_cluster}_binary')\n",
    "\n",
    "X_train, X_test, y_train, y_test = train_test_split(X,y,random_state=42,test_size = 0.2)"
   ]
  },
  {
   "cell_type": "markdown",
   "metadata": {},
   "source": [
    "### Assess Models"
   ]
  },
  {
   "cell_type": "code",
   "execution_count": 45,
   "metadata": {},
   "outputs": [
    {
     "data": {
      "text/plain": [
       "0.8245175438596491"
      ]
     },
     "execution_count": 45,
     "metadata": {},
     "output_type": "execute_result"
    }
   ],
   "source": [
    "#Negative Model\n",
    "y_test.value_counts()[0]/len(y_test)"
   ]
  },
  {
   "cell_type": "code",
   "execution_count": 44,
   "metadata": {},
   "outputs": [
    {
     "data": {
      "text/plain": [
       "0.8244736842105264"
      ]
     },
     "execution_count": 44,
     "metadata": {},
     "output_type": "execute_result"
    }
   ],
   "source": [
    "#Logistic model\n",
    "from sklearn.linear_model import LogisticRegression\n",
    "\n",
    "log_clf = LogisticRegression(random_state=42)\n",
    "log_clf.fit(X_train, y_train)\n",
    "yhat = log_clf.predict(X_test)\n",
    "(yhat == y_test).mean()"
   ]
  },
  {
   "cell_type": "code",
   "execution_count": 31,
   "metadata": {},
   "outputs": [
    {
     "data": {
      "text/plain": [
       "0.9732017543859649"
      ]
     },
     "execution_count": 31,
     "metadata": {},
     "output_type": "execute_result"
    }
   ],
   "source": [
    "#Adaboost model\n",
    "from sklearn.ensemble import AdaBoostClassifier\n",
    "\n",
    "abc_clf = AdaBoostClassifier(n_estimators=100, algorithm=\"SAMME\", random_state=42)\n",
    "abc_clf.fit(X_train, y_train)\n",
    "yhat = abc_clf.predict(X_test)\n",
    "(y_test == yhat).mean()"
   ]
  },
  {
   "cell_type": "code",
   "execution_count": 43,
   "metadata": {},
   "outputs": [
    {
     "data": {
      "text/plain": [
       "0.8245175438596491"
      ]
     },
     "execution_count": 43,
     "metadata": {},
     "output_type": "execute_result"
    }
   ],
   "source": [
    "#SVC model\n",
    "from sklearn import svm\n",
    "\n",
    "svc_clf = svm.SVC()\n",
    "svc_clf.fit(X_train, y_train)\n",
    "yhat = svc_clf.predict(X_test)\n",
    "(y_test == yhat).mean()"
   ]
  }
 ],
 "metadata": {
  "kernelspec": {
   "display_name": "605env",
   "language": "python",
   "name": "python3"
  },
  "language_info": {
   "codemirror_mode": {
    "name": "ipython",
    "version": 3
   },
   "file_extension": ".py",
   "mimetype": "text/x-python",
   "name": "python",
   "nbconvert_exporter": "python",
   "pygments_lexer": "ipython3",
   "version": "3.10.13"
  }
 },
 "nbformat": 4,
 "nbformat_minor": 2
}
